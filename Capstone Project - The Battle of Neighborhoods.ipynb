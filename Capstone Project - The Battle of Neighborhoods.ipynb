{
    "cells": [
        {
            "cell_type": "markdown",
            "metadata": {},
            "source": "# Capstone Project - Battle of Neighborhoods"
        },
        {
            "cell_type": "markdown",
            "metadata": {
                "collapsed": true
            },
            "source": "# Introduction/Business Problem \nA description of the problem and a discussion of the background\n\nThis project is addressed to people who wants to open a restaurant.\n\nIf you want to open a restaurant in London it's not enough just to know how to cook. One of the first questions that pops into your mind is \"Where would i open it?\"\n\nThis question is depend on various variables, such as:\n1. what food are you cooking? \n2. is it an evening restaurant or maybe you aim it for lunch time?\n3. will it be an expensive restaurant/fast food/ ethnic food ?\netc...\n\nIn order to succeed you have to succesfuly address these questions before looking for a place.\nWe are aiming our project for fast food restaurant that aims for lunch time/early afternoon hours.\n\n   ## The problem: Where should I open my burger restaurant in London?"
        },
        {
            "cell_type": "markdown",
            "metadata": {},
            "source": "# Data understanding:\nA description of the data and how it will be used to solve the problem\n\n1. We will use web scraping from Wikipedia in order to get all the neighborhoods in London. we will use the following columns from the table: Location,London borough,Post town, Postcode district. Dial code and OS grid ref will be remove during data cleaning since this information has no added value for our goal. The Wikipedia page can be found in : https://en.wikipedia.org/wiki/List_of_areas_of_London\n2. Will add the Latitude and Longitude for each neighborhood using geocode.\n3. Visualize london map including the neighborhood dataframe we described using folium (same as we did for New York & Toronto)\n4. Since we want to open our restaurant during lunch time we need to aim for neighborhoods with many schools/workplaces. People are staying there during the day and look for quick lunch place. In order to do so we will use Foursquare API to get the number of workplaces and schools in every neighborhood and summarize it in order to compare between neighborhoods.\n5. Will recommend the best neighborhood based on the data above\n\n"
        },
        {
            "cell_type": "code",
            "execution_count": null,
            "metadata": {},
            "outputs": [],
            "source": ""
        }
    ],
    "metadata": {
        "kernelspec": {
            "display_name": "Python 3.7",
            "language": "python",
            "name": "python3"
        },
        "language_info": {
            "codemirror_mode": {
                "name": "ipython",
                "version": 3
            },
            "file_extension": ".py",
            "mimetype": "text/x-python",
            "name": "python",
            "nbconvert_exporter": "python",
            "pygments_lexer": "ipython3",
            "version": "3.7.9"
        }
    },
    "nbformat": 4,
    "nbformat_minor": 1
}